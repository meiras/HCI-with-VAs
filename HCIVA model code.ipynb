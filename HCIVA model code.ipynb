{
 "cells": [
  {
   "cell_type": "markdown",
   "metadata": {},
   "source": [
    "# IMPORT LIBRARIES\n",
    "This part imports libraries"
   ]
  },
  {
   "cell_type": "code",
   "execution_count": 7,
   "metadata": {
    "collapsed": true
   },
   "outputs": [],
   "source": [
    "import random as RD\n",
    "import pylab as PL\n",
    "import scipy as SP\n",
    "import networkx as nx\n",
    "from networkx.algorithms import bipartite\n",
    "\n",
    "RD.seed()\n"
   ]
  },
  {
   "cell_type": "markdown",
   "metadata": {},
   "source": [
    "# Create graph\n",
    "This part creates the bipartite graph with nodes and edges.\n",
    "Note: the current setup contains 6 nodes of one type and 10 of the other with variablity in connections\n",
    "\n",
    "Note: NetworkX does not have a custom bipartite graph class but the Graph() or DiGraph() classes can be used to represent bipartite graphs. Keep track of which set each node belongs to, and make sure that there is no edge between nodes of the same set (this inhibits me from having personal targets learn from each other; expansion possible with tripartite on conglomerate sharing). The convention used in NetworkX is to use a node attribute named bipartite with values 0 or 1 to identify the sets each node belongs to. "
   ]
  },
  {
   "cell_type": "code",
   "execution_count": 8,
   "metadata": {},
   "outputs": [
    {
     "data": {
      "text/plain": [
       "False"
      ]
     },
     "execution_count": 8,
     "metadata": {},
     "output_type": "execute_result"
    }
   ],
   "source": [
    "B = nx.Graph()\n",
    "# Add the node attribute \"bipartite\" - Peceivers = 0\n",
    "B.add_nodes_from([1,2,3,4, 5, 6], bipartite=0) \n",
    "# Add the node attribute \"bipartite\" - Targets = 1\n",
    "B.add_nodes_from(['a','b','c', 'd','e', 'f', 'g', 'h', 'm', 'q'], bipartite=1)\n",
    "B.add_edges_from([(1,'a'), (1,'e'), (1,'f'), (2,'b'), (2,'e'), (2,'g'), \n",
    "                  (3,'c'), (3,'e'), (3,'h'),(3,'g'),(4,'d'), (5, 'm'), (6, 'q')])\n",
    "\n",
    "\n"
   ]
  },
  {
   "cell_type": "markdown",
   "metadata": {},
   "source": [
    "# Create two sets for \"bipartite\"\n",
    " Did this because False on nx.is.connected(B); better of for titling\n",
    " \n",
    " Reference: https://networkx.github.io/documentation/networkx-1.9/reference/algorithms.bipartite.html?highlight=bipartite"
   ]
  },
  {
   "cell_type": "code",
   "execution_count": 32,
   "metadata": {},
   "outputs": [
    {
     "data": {
      "text/plain": [
       "False"
      ]
     },
     "execution_count": 32,
     "metadata": {},
     "output_type": "execute_result"
    }
   ],
   "source": [
    "perceivers = {n for n, d in B.nodes(data=True) if d['bipartite']==0}\n",
    "targets = set(B) - perceivers\n",
    "\n",
    "#nx.is_connected(B)\n",
    "\n",
    "#perceivers, targets = bipartite.sets(B)\n",
    "\n"
   ]
  },
  {
   "cell_type": "markdown",
   "metadata": {},
   "source": [
    "## Test Connections\n",
    "Only run this to test connections in setup"
   ]
  },
  {
   "cell_type": "code",
   "execution_count": 29,
   "metadata": {},
   "outputs": [
    {
     "name": "stdout",
     "output_type": "stream",
     "text": [
      "16\n",
      "14\n",
      "['a', 1, 2, 3, 4, 5, 6, 'f', 'h', 'm', 'c', 'q', 'g', 'b', 'e', 'd']\n",
      "[('a', 1), (1, 'e'), (1, 'f'), (2, 'b'), (2, 'e'), (2, 'g'), (3, 'h'), (3, 'c'), (3, 'e'), (3, 'g'), (4, 'd'), (5, 'm'), (6, 'q'), ('m', 'q')]\n",
      "['a', 'e', 'f']\n",
      "3\n",
      "set([1, 2, 3, 4, 5, 6])\n",
      "0.23\n"
     ]
    },
    {
     "ename": "NameError",
     "evalue": "name 'is_bipartite' is not defined",
     "output_type": "error",
     "traceback": [
      "\u001b[0;31m---------------------------------------------------------------------------\u001b[0m",
      "\u001b[0;31mNameError\u001b[0m                                 Traceback (most recent call last)",
      "\u001b[0;32m<ipython-input-29-443218f39362>\u001b[0m in \u001b[0;36m<module>\u001b[0;34m()\u001b[0m\n\u001b[1;32m     16\u001b[0m \u001b[0;32mprint\u001b[0m\u001b[0;34m(\u001b[0m\u001b[0mround\u001b[0m\u001b[0;34m(\u001b[0m\u001b[0mbipartite\u001b[0m\u001b[0;34m.\u001b[0m\u001b[0mdensity\u001b[0m\u001b[0;34m(\u001b[0m\u001b[0mB\u001b[0m\u001b[0;34m,\u001b[0m \u001b[0mtargets\u001b[0m\u001b[0;34m)\u001b[0m\u001b[0;34m,\u001b[0m\u001b[0;36m2\u001b[0m\u001b[0;34m)\u001b[0m\u001b[0;34m)\u001b[0m\u001b[0;34m\u001b[0m\u001b[0m\n\u001b[1;32m     17\u001b[0m \u001b[0;31m#test if bipartite\u001b[0m\u001b[0;34m\u001b[0m\u001b[0;34m\u001b[0m\u001b[0m\n\u001b[0;32m---> 18\u001b[0;31m \u001b[0mis_bipartite\u001b[0m\u001b[0;34m(\u001b[0m\u001b[0mB\u001b[0m\u001b[0;34m)\u001b[0m\u001b[0;34m\u001b[0m\u001b[0m\n\u001b[0m\u001b[1;32m     19\u001b[0m \u001b[0;31m#bottom_nodes, top_nodes = bipartite.sets(B)\u001b[0m\u001b[0;34m\u001b[0m\u001b[0;34m\u001b[0m\u001b[0m\n\u001b[1;32m     20\u001b[0m \u001b[0;34m\u001b[0m\u001b[0m\n",
      "\u001b[0;31mNameError\u001b[0m: name 'is_bipartite' is not defined"
     ]
    }
   ],
   "source": [
    "#Test connections\n",
    "nx.is_connected(B)\n",
    "#bottom_nodes, top_nodes = bipartite.sets(B)\n",
    "\n",
    "\n",
    "\n",
    "print B.number_of_nodes()\n",
    "print B.number_of_edges()\n",
    "print list(B.nodes)\n",
    "print list(B.edges)\n",
    "print list(B.adj[1])\n",
    "print B.degree[1]\n",
    "\n",
    "print perceivers\n",
    "\n",
    "\n",
    "\n",
    "\n",
    "#nx.connected_components(B)"
   ]
  },
  {
   "cell_type": "markdown",
   "metadata": {},
   "source": [
    "## Bookmark step\n",
    "So you can easily use the bipartite algorithms that require, as an argument, a container with all nodes that belong to one node set:"
   ]
  },
  {
   "cell_type": "code",
   "execution_count": 35,
   "metadata": {},
   "outputs": [
    {
     "name": "stdout",
     "output_type": "stream",
     "text": [
      "0.23\n"
     ]
    },
    {
     "data": {
      "text/plain": [
       "EdgeView([(1, 2), (1, 3), (2, 3), (5, 'q'), (6, 'm')])"
      ]
     },
     "execution_count": 35,
     "metadata": {},
     "output_type": "execute_result"
    }
   ],
   "source": [
    "print(round(bipartite.density(B, targets),2))\n",
    "G = bipartite.projected_graph(B, top_nodes)\n",
    "G.edges()"
   ]
  },
  {
   "cell_type": "code",
   "execution_count": null,
   "metadata": {
    "collapsed": true
   },
   "outputs": [],
   "source": []
  }
 ],
 "metadata": {
  "kernelspec": {
   "display_name": "Python 2",
   "language": "python",
   "name": "python2"
  },
  "language_info": {
   "codemirror_mode": {
    "name": "ipython",
    "version": 2
   },
   "file_extension": ".py",
   "mimetype": "text/x-python",
   "name": "python",
   "nbconvert_exporter": "python",
   "pygments_lexer": "ipython2",
   "version": "2.7.14"
  }
 },
 "nbformat": 4,
 "nbformat_minor": 2
}
