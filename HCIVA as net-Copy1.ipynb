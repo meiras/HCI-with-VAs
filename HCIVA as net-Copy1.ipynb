{
 "cells": [
  {
   "cell_type": "markdown",
   "metadata": {},
   "source": [
    "## This attempt models after net voter and majority\n",
    "\n",
    "some thoughts:\n",
    "start with learning from self. \n",
    "other models where one can learn from others\n",
    "\n",
    "start with each 1:1 learning to adjust performance and expectation\n",
    "other model to compare where machines learn across people\n",
    "\n"
   ]
  },
  {
   "cell_type": "code",
   "execution_count": 2,
   "metadata": {
    "collapsed": true
   },
   "outputs": [],
   "source": [
    "\n",
    "%matplotlib inline \n",
    "#taken from assignment\n",
    "\n",
    "import networkx as nx\n",
    "import numpy\n",
    "import matplotlib.pyplot as plt\n",
    "\n",
    "from networkx.algorithms import bipartite\n",
    "\n",
    "#import matplotlib\n",
    "#matplotlib.use('TkAgg')\n",
    "\n",
    "import pylab as PL\n",
    "import random as RD\n",
    "\n",
    "RD.seed()\n",
    "\n",
    "PoorVAProb = 0.2 #proability that VA severely underperforms\n",
    "\n",
    "#col = {0:'w', 1:'k'} --  consider a property for perceivers only that illustrates level of expectations met\n"
   ]
  },
  {
   "cell_type": "markdown",
   "metadata": {},
   "source": [
    "## Create graph"
   ]
  },
  {
   "cell_type": "code",
   "execution_count": 6,
   "metadata": {},
   "outputs": [
    {
     "ename": "NetworkXPointlessConcept",
     "evalue": "('Connectivity is undefined ', 'for the null graph.')",
     "output_type": "error",
     "traceback": [
      "\u001b[0;31m---------------------------------------------------------------------------\u001b[0m",
      "\u001b[0;31mNetworkXPointlessConcept\u001b[0m                  Traceback (most recent call last)",
      "\u001b[0;32m<ipython-input-6-e3ad7a9e7e27>\u001b[0m in \u001b[0;36m<module>\u001b[0;34m()\u001b[0m\n\u001b[1;32m      2\u001b[0m \u001b[0mperceivers\u001b[0m \u001b[0;34m=\u001b[0m \u001b[0mset\u001b[0m\u001b[0;34m(\u001b[0m\u001b[0;34m[\u001b[0m\u001b[0;36m1\u001b[0m\u001b[0;34m,\u001b[0m\u001b[0;36m2\u001b[0m\u001b[0;34m,\u001b[0m\u001b[0;36m3\u001b[0m\u001b[0;34m,\u001b[0m\u001b[0;36m4\u001b[0m\u001b[0;34m,\u001b[0m\u001b[0;36m5\u001b[0m\u001b[0;34m,\u001b[0m\u001b[0;36m6\u001b[0m\u001b[0;34m]\u001b[0m\u001b[0;34m)\u001b[0m\u001b[0;34m\u001b[0m\u001b[0m\n\u001b[1;32m      3\u001b[0m \u001b[0mtargets\u001b[0m \u001b[0;34m=\u001b[0m \u001b[0mset\u001b[0m\u001b[0;34m(\u001b[0m\u001b[0;34m[\u001b[0m\u001b[0;34m'a'\u001b[0m\u001b[0;34m,\u001b[0m\u001b[0;34m'b'\u001b[0m\u001b[0;34m,\u001b[0m\u001b[0;34m'c'\u001b[0m\u001b[0;34m,\u001b[0m \u001b[0;34m'd'\u001b[0m\u001b[0;34m,\u001b[0m\u001b[0;34m'e'\u001b[0m\u001b[0;34m,\u001b[0m \u001b[0;34m'f'\u001b[0m\u001b[0;34m,\u001b[0m \u001b[0;34m'g'\u001b[0m\u001b[0;34m,\u001b[0m \u001b[0;34m'h'\u001b[0m\u001b[0;34m,\u001b[0m \u001b[0;34m'm'\u001b[0m\u001b[0;34m,\u001b[0m \u001b[0;34m'q'\u001b[0m\u001b[0;34m]\u001b[0m\u001b[0;34m)\u001b[0m\u001b[0;34m\u001b[0m\u001b[0m\n\u001b[0;32m----> 4\u001b[0;31m \u001b[0mperceivers\u001b[0m\u001b[0;34m,\u001b[0m \u001b[0mtargets\u001b[0m \u001b[0;34m=\u001b[0m \u001b[0mbipartite\u001b[0m\u001b[0;34m.\u001b[0m\u001b[0msets\u001b[0m\u001b[0;34m(\u001b[0m\u001b[0mG\u001b[0m\u001b[0;34m)\u001b[0m\u001b[0;34m\u001b[0m\u001b[0m\n\u001b[0m\u001b[1;32m      5\u001b[0m \u001b[0;34m\u001b[0m\u001b[0m\n\u001b[1;32m      6\u001b[0m \u001b[0;34m\u001b[0m\u001b[0m\n",
      "\u001b[0;32m/Users/meira/anaconda2/lib/python2.7/site-packages/networkx/algorithms/bipartite/basic.pyc\u001b[0m in \u001b[0;36msets\u001b[0;34m(G, top_nodes)\u001b[0m\n\u001b[1;32m    199\u001b[0m         \u001b[0mY\u001b[0m \u001b[0;34m=\u001b[0m \u001b[0mset\u001b[0m\u001b[0;34m(\u001b[0m\u001b[0mG\u001b[0m\u001b[0;34m)\u001b[0m \u001b[0;34m-\u001b[0m \u001b[0mX\u001b[0m\u001b[0;34m\u001b[0m\u001b[0m\n\u001b[1;32m    200\u001b[0m     \u001b[0;32melse\u001b[0m\u001b[0;34m:\u001b[0m\u001b[0;34m\u001b[0m\u001b[0m\n\u001b[0;32m--> 201\u001b[0;31m         \u001b[0;32mif\u001b[0m \u001b[0;32mnot\u001b[0m \u001b[0mis_connected\u001b[0m\u001b[0;34m(\u001b[0m\u001b[0mG\u001b[0m\u001b[0;34m)\u001b[0m\u001b[0;34m:\u001b[0m\u001b[0;34m\u001b[0m\u001b[0m\n\u001b[0m\u001b[1;32m    202\u001b[0m             \u001b[0mmsg\u001b[0m \u001b[0;34m=\u001b[0m \u001b[0;34m'Disconnected graph: Ambiguous solution for bipartite sets.'\u001b[0m\u001b[0;34m\u001b[0m\u001b[0m\n\u001b[1;32m    203\u001b[0m             \u001b[0;32mraise\u001b[0m \u001b[0mnx\u001b[0m\u001b[0;34m.\u001b[0m\u001b[0mAmbiguousSolution\u001b[0m\u001b[0;34m(\u001b[0m\u001b[0mmsg\u001b[0m\u001b[0;34m)\u001b[0m\u001b[0;34m\u001b[0m\u001b[0m\n",
      "\u001b[0;32m<decorator-gen-206>\u001b[0m in \u001b[0;36mis_connected\u001b[0;34m(G)\u001b[0m\n",
      "\u001b[0;32m/Users/meira/anaconda2/lib/python2.7/site-packages/networkx/utils/decorators.pyc\u001b[0m in \u001b[0;36m_not_implemented_for\u001b[0;34m(f, *args, **kwargs)\u001b[0m\n\u001b[1;32m     68\u001b[0m                                             ' '.join(graph_types))\n\u001b[1;32m     69\u001b[0m         \u001b[0;32melse\u001b[0m\u001b[0;34m:\u001b[0m\u001b[0;34m\u001b[0m\u001b[0m\n\u001b[0;32m---> 70\u001b[0;31m             \u001b[0;32mreturn\u001b[0m \u001b[0mf\u001b[0m\u001b[0;34m(\u001b[0m\u001b[0;34m*\u001b[0m\u001b[0margs\u001b[0m\u001b[0;34m,\u001b[0m \u001b[0;34m**\u001b[0m\u001b[0mkwargs\u001b[0m\u001b[0;34m)\u001b[0m\u001b[0;34m\u001b[0m\u001b[0m\n\u001b[0m\u001b[1;32m     71\u001b[0m     \u001b[0;32mreturn\u001b[0m \u001b[0m_not_implemented_for\u001b[0m\u001b[0;34m\u001b[0m\u001b[0m\n\u001b[1;32m     72\u001b[0m \u001b[0;34m\u001b[0m\u001b[0m\n",
      "\u001b[0;32m/Users/meira/anaconda2/lib/python2.7/site-packages/networkx/algorithms/components/connected.pyc\u001b[0m in \u001b[0;36mis_connected\u001b[0;34m(G)\u001b[0m\n\u001b[1;32m    194\u001b[0m     \u001b[0;32mif\u001b[0m \u001b[0mlen\u001b[0m\u001b[0;34m(\u001b[0m\u001b[0mG\u001b[0m\u001b[0;34m)\u001b[0m \u001b[0;34m==\u001b[0m \u001b[0;36m0\u001b[0m\u001b[0;34m:\u001b[0m\u001b[0;34m\u001b[0m\u001b[0m\n\u001b[1;32m    195\u001b[0m         raise nx.NetworkXPointlessConcept('Connectivity is undefined ',\n\u001b[0;32m--> 196\u001b[0;31m                                           'for the null graph.')\n\u001b[0m\u001b[1;32m    197\u001b[0m     \u001b[0;32mreturn\u001b[0m \u001b[0mlen\u001b[0m\u001b[0;34m(\u001b[0m\u001b[0mset\u001b[0m\u001b[0;34m(\u001b[0m\u001b[0m_plain_bfs\u001b[0m\u001b[0;34m(\u001b[0m\u001b[0mG\u001b[0m\u001b[0;34m,\u001b[0m \u001b[0marbitrary_element\u001b[0m\u001b[0;34m(\u001b[0m\u001b[0mG\u001b[0m\u001b[0;34m)\u001b[0m\u001b[0;34m)\u001b[0m\u001b[0;34m)\u001b[0m\u001b[0;34m)\u001b[0m \u001b[0;34m==\u001b[0m \u001b[0mlen\u001b[0m\u001b[0;34m(\u001b[0m\u001b[0mG\u001b[0m\u001b[0;34m)\u001b[0m\u001b[0;34m\u001b[0m\u001b[0m\n\u001b[1;32m    198\u001b[0m \u001b[0;34m\u001b[0m\u001b[0m\n",
      "\u001b[0;31mNetworkXPointlessConcept\u001b[0m: ('Connectivity is undefined ', 'for the null graph.')"
     ]
    }
   ],
   "source": [
    "G = nx.Graph()  #nx path graph?\n",
    "perceivers = set([1,2,3,4,5,6]) \n",
    "targets = set(['a','b','c', 'd','e', 'f', 'g', 'h', 'm', 'q'])\n",
    "perceivers, targets = bipartite.sets(G)\n",
    "\n",
    "\n",
    "bipartite.is_bipartite_node_set(G,perceivers)"
   ]
  },
  {
   "cell_type": "code",
   "execution_count": 46,
   "metadata": {},
   "outputs": [
    {
     "name": "stdout",
     "output_type": "stream",
     "text": [
      "(16, 13)\n"
     ]
    }
   ],
   "source": [
    "print((G.number_of_nodes(), G.number_of_edges())) \n"
   ]
  },
  {
   "cell_type": "code",
   "execution_count": 55,
   "metadata": {},
   "outputs": [
    {
     "data": {
      "text/plain": [
       "True"
      ]
     },
     "execution_count": 55,
     "metadata": {},
     "output_type": "execute_result"
    }
   ],
   "source": [
    "# try naming sets\n",
    "perceivers = set([1,2,3,4,5,6])\n",
    "bipartite.is_bipartite_node_set(G,perceivers)\n"
   ]
  },
  {
   "cell_type": "code",
   "execution_count": 53,
   "metadata": {},
   "outputs": [
    {
     "ename": "AmbiguousSolution",
     "evalue": "Disconnected graph: Ambiguous solution for bipartite sets.",
     "output_type": "error",
     "traceback": [
      "\u001b[0;31m---------------------------------------------------------------------------\u001b[0m",
      "\u001b[0;31mAmbiguousSolution\u001b[0m                         Traceback (most recent call last)",
      "\u001b[0;32m<ipython-input-53-02c7093175df>\u001b[0m in \u001b[0;36m<module>\u001b[0;34m()\u001b[0m\n\u001b[1;32m      1\u001b[0m \u001b[0mtargets\u001b[0m \u001b[0;34m=\u001b[0m \u001b[0mset\u001b[0m\u001b[0;34m(\u001b[0m\u001b[0;34m[\u001b[0m\u001b[0;34m'a'\u001b[0m\u001b[0;34m,\u001b[0m\u001b[0;34m'b'\u001b[0m\u001b[0;34m,\u001b[0m\u001b[0;34m'c'\u001b[0m\u001b[0;34m,\u001b[0m \u001b[0;34m'd'\u001b[0m\u001b[0;34m,\u001b[0m\u001b[0;34m'e'\u001b[0m\u001b[0;34m,\u001b[0m \u001b[0;34m'f'\u001b[0m\u001b[0;34m,\u001b[0m \u001b[0;34m'g'\u001b[0m\u001b[0;34m,\u001b[0m \u001b[0;34m'h'\u001b[0m\u001b[0;34m,\u001b[0m \u001b[0;34m'm'\u001b[0m\u001b[0;34m,\u001b[0m \u001b[0;34m'q'\u001b[0m\u001b[0;34m]\u001b[0m\u001b[0;34m)\u001b[0m\u001b[0;34m\u001b[0m\u001b[0m\n\u001b[0;32m----> 2\u001b[0;31m \u001b[0mtargets\u001b[0m\u001b[0;34m,\u001b[0m \u001b[0mperceivers\u001b[0m \u001b[0;34m=\u001b[0m \u001b[0mbipartite\u001b[0m\u001b[0;34m.\u001b[0m\u001b[0msets\u001b[0m\u001b[0;34m(\u001b[0m\u001b[0mG\u001b[0m\u001b[0;34m)\u001b[0m\u001b[0;34m\u001b[0m\u001b[0m\n\u001b[0m",
      "\u001b[0;32m/Users/meira/anaconda2/lib/python2.7/site-packages/networkx/algorithms/bipartite/basic.pyc\u001b[0m in \u001b[0;36msets\u001b[0;34m(G, top_nodes)\u001b[0m\n\u001b[1;32m    201\u001b[0m         \u001b[0;32mif\u001b[0m \u001b[0;32mnot\u001b[0m \u001b[0mis_connected\u001b[0m\u001b[0;34m(\u001b[0m\u001b[0mG\u001b[0m\u001b[0;34m)\u001b[0m\u001b[0;34m:\u001b[0m\u001b[0;34m\u001b[0m\u001b[0m\n\u001b[1;32m    202\u001b[0m             \u001b[0mmsg\u001b[0m \u001b[0;34m=\u001b[0m \u001b[0;34m'Disconnected graph: Ambiguous solution for bipartite sets.'\u001b[0m\u001b[0;34m\u001b[0m\u001b[0m\n\u001b[0;32m--> 203\u001b[0;31m             \u001b[0;32mraise\u001b[0m \u001b[0mnx\u001b[0m\u001b[0;34m.\u001b[0m\u001b[0mAmbiguousSolution\u001b[0m\u001b[0;34m(\u001b[0m\u001b[0mmsg\u001b[0m\u001b[0;34m)\u001b[0m\u001b[0;34m\u001b[0m\u001b[0m\n\u001b[0m\u001b[1;32m    204\u001b[0m         \u001b[0mc\u001b[0m \u001b[0;34m=\u001b[0m \u001b[0mcolor\u001b[0m\u001b[0;34m(\u001b[0m\u001b[0mG\u001b[0m\u001b[0;34m)\u001b[0m\u001b[0;34m\u001b[0m\u001b[0m\n\u001b[1;32m    205\u001b[0m         \u001b[0mX\u001b[0m \u001b[0;34m=\u001b[0m \u001b[0;34m{\u001b[0m\u001b[0mn\u001b[0m \u001b[0;32mfor\u001b[0m \u001b[0mn\u001b[0m\u001b[0;34m,\u001b[0m \u001b[0mis_top\u001b[0m \u001b[0;32min\u001b[0m \u001b[0mc\u001b[0m\u001b[0;34m.\u001b[0m\u001b[0mitems\u001b[0m\u001b[0;34m(\u001b[0m\u001b[0;34m)\u001b[0m \u001b[0;32mif\u001b[0m \u001b[0mis_top\u001b[0m\u001b[0;34m}\u001b[0m\u001b[0;34m\u001b[0m\u001b[0m\n",
      "\u001b[0;31mAmbiguousSolution\u001b[0m: Disconnected graph: Ambiguous solution for bipartite sets."
     ]
    }
   ],
   "source": [
    "targets = set(['a','b','c', 'd','e', 'f', 'g', 'h', 'm', 'q'])\n",
    "targets, perceivers = bipartite.sets(G)"
   ]
  },
  {
   "cell_type": "code",
   "execution_count": 50,
   "metadata": {},
   "outputs": [
    {
     "data": {
      "text/plain": [
       "False"
      ]
     },
     "execution_count": 50,
     "metadata": {},
     "output_type": "execute_result"
    }
   ],
   "source": [
    "nx.is_connected(G)\n"
   ]
  },
  {
   "cell_type": "code",
   "execution_count": null,
   "metadata": {
    "collapsed": true
   },
   "outputs": [],
   "source": [
    "#make them targets and perceivers\n",
    "top_nodes = {n for n, d in B.nodes(data=True) if d['bipartite']==0} # perceivers\n",
    "bottom_nodes = set(B) - top_nodes"
   ]
  },
  {
   "cell_type": "code",
   "execution_count": 41,
   "metadata": {},
   "outputs": [
    {
     "data": {
      "image/png": "[encoded data removed]",
      "text/plain": [
       "<matplotlib.figure.Figure at 0x1517ad3d50>"
      ]
     },
     "metadata": {},
     "output_type": "display_data"
    }
   ],
   "source": [
    "#B_layout = nx.spring_layout(B, iterations=1000)\n",
    "#nx.draw_networkx(B, pos=B_layout)\n",
    "#why are there no edges????\n",
    "nx.draw_networkx(G)"
   ]
  },
  {
   "cell_type": "markdown",
   "metadata": {},
   "source": [
    "## Add attributes"
   ]
  },
  {
   "cell_type": "code",
   "execution_count": 28,
   "metadata": {
    "collapsed": true
   },
   "outputs": [],
   "source": [
    "\n",
    "\n",
    "#SET INITIAL WEIGHTS FOR EXPECTATIONS\n",
    "\n",
    "B.node['a']['VA.type'] = 'personal assistant'\n",
    "B.node['b']['VA.type'] = 'personal assistant'\n",
    "B.node['c']['VA.type'] = 'personal assistant'\n",
    "B.node['d']['VA.type'] = 'personal assistant'\n",
    "B.node['m']['VA.type'] = 'personal assistant'\n",
    "B.node['e']['VA.type'] = 'bank assistant'  # could open up learning through neighbors since public interaction\n",
    "B.node['f']['VA.type'] = 'customer service assistant'\n",
    "B.node['g']['VA.type'] = 'customer service assistant'\n",
    "B.node['h']['VA.type'] = 'purchasing assistant'\n",
    "B.node['q']['VA.type'] = 'health assistant'\n",
    "\n",
    "#B.node['1']['expectation.1'] = 20 #an independent expectation? or owned by edge?\n",
    "#say there are x factors involved in expectation. start with 3\n",
    "#FIXME values are placeholders\n",
    "B.adj[1]['a']['expectation.1'] = 20 #owned by edge so part of relationship\n",
    "B.adj[1]['a']['expectation.2'] = 20 #owned by edge so part of relationship\n",
    "B.adj[1]['a']['expectation.3'] = 20 #owned by edge so part of relationship\n",
    "\n",
    "B.adj[1]['e']['expectation.1'] = 20 #owned by edge so part of relationship\n",
    "B.adj[1]['e']['expectation.2'] = 20 #owned by edge so part of relationship\n",
    "B.adj[1]['e']['expectation.3'] = 20 #owned by edge so part of relationship\n",
    "\n",
    "B.adj[1]['f']['expectation.1'] = 20 #owned by edge so part of relationship\n",
    "B.adj[1]['f']['expectation.2'] = 20 #owned by edge so part of relationship\n",
    "B.adj[1]['f']['expectation.3'] = 20 #owned by edge so part of relationship\n",
    "\n",
    "B.adj[2]['b']['expectation.1'] = 20 \n",
    "B.adj[2]['b']['expectation.2'] = 20 \n",
    "B.adj[2]['b']['expectation.3'] = 20 \n",
    "\n",
    "B.adj[2]['e']['expectation.1'] = 20 \n",
    "B.adj[2]['e']['expectation.2'] = 20 \n",
    "B.adj[2]['e']['expectation.3'] = 20 \n",
    "\n",
    "B.adj[2]['g']['expectation.1'] = 20 \n",
    "B.adj[2]['g']['expectation.2'] = 20 \n",
    "B.adj[2]['g']['expectation.3'] = 20 \n",
    "\n",
    "B.adj[3]['c']['expectation.1'] = 20 \n",
    "B.adj[3]['c']['expectation.2'] = 20 \n",
    "B.adj[3]['c']['expectation.3'] = 20 \n",
    "\n",
    "B.adj[3]['e']['expectation.1'] = 20 \n",
    "B.adj[3]['e']['expectation.2'] = 20 \n",
    "B.adj[3]['e']['expectation.3'] = 20 \n",
    "\n",
    "B.adj[3]['h']['expectation.1'] = 20 \n",
    "B.adj[3]['h']['expectation.2'] = 20 \n",
    "B.adj[3]['h']['expectation.3'] = 20 \n",
    "\n",
    "B.adj[3]['g']['expectation.1'] = 20 \n",
    "B.adj[3]['g']['expectation.2'] = 20 \n",
    "B.adj[3]['g']['expectation.3'] = 20 \n",
    "\n",
    "B.adj[4]['d']['expectation.1'] = 20 \n",
    "B.adj[4]['d']['expectation.2'] = 20 \n",
    "B.adj[4]['d']['expectation.3'] = 20 \n",
    "\n",
    "B.adj[5]['m']['expectation.1'] = 20 \n",
    "B.adj[5]['m']['expectation.2'] = 20 \n",
    "B.adj[5]['m']['expectation.3'] = 20 \n",
    "\n",
    "B.adj[6]['q']['expectation.1'] = 20 \n",
    "B.adj[6]['q']['expectation.2'] = 20 \n",
    "B.adj[6]['q']['expectation.3'] = 20 \n",
    "\n",
    "#setting performance variables\n",
    "##Starting with performance variables as being owned by VA. but really should be owned by edge...\n",
    "\n",
    "B.node['a']['performance.1'] = 0\n",
    "B.node['a']['performance.2'] = 0\n",
    "B.node['a']['performance.3'] = 0\n",
    "\n",
    "B.node['b']['performance.1'] = 0\n",
    "B.node['b']['performance.2'] = 0\n",
    "B.node['b']['performance.3'] = 0\n",
    "\n",
    "B.node['c']['performance.1'] = 0\n",
    "B.node['c']['performance.2'] = 0\n",
    "B.node['c']['performance.3'] = 0\n",
    "\n",
    "B.node['d']['performance.1'] = 0\n",
    "B.node['d']['performance.2'] = 0\n",
    "B.node['d']['performance.3'] = 0\n",
    "\n",
    "B.node['e']['performance.1'] = 0\n",
    "B.node['e']['performance.2'] = 0\n",
    "B.node['e']['performance.3'] = 0\n",
    "\n",
    "B.node['f']['performance.1'] = 0\n",
    "B.node['f']['performance.2'] = 0\n",
    "B.node['f']['performance.3'] = 0\n",
    "\n",
    "B.node['g']['performance.1'] = 0\n",
    "B.node['g']['performance.2'] = 0\n",
    "B.node['g']['performance.3'] = 0\n",
    "\n",
    "B.node['h']['performance.1'] = 0\n",
    "B.node['h']['performance.2'] = 0\n",
    "B.node['h']['performance.3'] = 0\n",
    "\n",
    "B.node['m']['performance.1'] = 0\n",
    "B.node['m']['performance.2'] = 0\n",
    "B.node['m']['performance.3'] = 0\n",
    "\n",
    "B.node['q']['performance.1'] = 0\n",
    "B.node['q']['performance.2'] = 0\n",
    "B.node['q']['performance.3'] = 0"
   ]
  },
  {
   "cell_type": "code",
   "execution_count": 29,
   "metadata": {},
   "outputs": [
    {
     "data": {
      "image/png": "[encoded data removed]",
      "text/plain": [
       "<matplotlib.figure.Figure at 0x1517a6c090>"
      ]
     },
     "metadata": {},
     "output_type": "display_data"
    }
   ],
   "source": [
    "B_layout = nx.spring_layout(B, iterations=1000)\n",
    "nx.draw_networkx(B, pos=B_layout)"
   ]
  },
  {
   "cell_type": "markdown",
   "metadata": {},
   "source": [
    "## (placeholder) set initial expectations and performance values"
   ]
  },
  {
   "cell_type": "code",
   "execution_count": 22,
   "metadata": {
    "collapsed": true
   },
   "outputs": [],
   "source": [
    "def init():\n",
    "    global B, nextB\n",
    "    \n",
    "    time = 0\n",
    "    \n",
    "    B = nx.Graph() # do i need to state this again?\n",
    "    \n",
    "    nextB = B.copy()\n",
    "    #do i need to return anythign else?"
   ]
  },
  {
   "cell_type": "markdown",
   "metadata": {},
   "source": [
    "## Draw network. NEED TO FILL THIS OUT\n"
   ]
  },
  {
   "cell_type": "code",
   "execution_count": 23,
   "metadata": {
    "collapsed": true
   },
   "outputs": [],
   "source": [
    "def draw():\n",
    "    PL.cla()\n",
    "    nx.draw(B) #, pos = positions, edge_color = [col[network.node[n]['state']] for n in network.nodes()])\n",
    "    PL.axis('image')\n",
    "    PL.title('t = ' + str(time))"
   ]
  },
  {
   "cell_type": "markdown",
   "metadata": {},
   "source": [
    "## The STEP"
   ]
  },
  {
   "cell_type": "code",
   "execution_count": 5,
   "metadata": {
    "collapsed": true
   },
   "outputs": [],
   "source": [
    "def step():\n",
    "    global time, B, nextB\n",
    "\n",
    "    time += 1\n",
    "\n",
    " \n",
    "    for i in B.nodes(): #for i in perceiver():\n",
    "        if B.node[target]['performance.1'] == B.adj[perceiver][target]['expectation.1'] :\n",
    "           # nextB.node[i]['state'] = 100 #FIXME placeholder value\n",
    "            nextB.adj[perceiver][target]['expectation.1'] = 50\n",
    "            for j in B.adj(i):\n",
    "                if B.adj[j]['expectation.1'] < 60 : #if it's generally high\n",
    "                    if RD.random() < PoorVAProb:\n",
    "                   # if RD.random() < infectionProb:\n",
    "                        nextB.node[i]['expectation.1'] = 5\n",
    "                        break\n",
    "                    else: # adaptive link cutting behavior\n",
    "                        nextB.node[i]['expectation.1'] = B.node[i]['expectation.1'] + 10\n",
    "        if B.node[target]['performance.1'] < B.adj[perceiver][target]['expectation.1'] :        # if B.node[target]['performance.1'] < B.adj[perceiver][target]['expectation.1']\n",
    "\n",
    "           nextB.adj[perceiver][target]['expectation.1'] = 10\n",
    "           \n",
    "                \n",
    "        else:\n",
    "             nextB.adj[perceiver][target]['expectation.1'] = B.adj[perceiver][target]['expectation.1'] + 40\n",
    "                \n",
    "    del B\n",
    "    B = nextB.copy()"
   ]
  },
  {
   "cell_type": "code",
   "execution_count": 6,
   "metadata": {},
   "outputs": [
    {
     "ename": "ImportError",
     "evalue": "No module named pycxsimulator",
     "output_type": "error",
     "traceback": [
      "\u001b[0;31m---------------------------------------------------------------------------\u001b[0m",
      "\u001b[0;31mImportError\u001b[0m                               Traceback (most recent call last)",
      "\u001b[0;32m<ipython-input-6-bb811980d6f4>\u001b[0m in \u001b[0;36m<module>\u001b[0;34m()\u001b[0m\n\u001b[0;32m----> 1\u001b[0;31m \u001b[0;32mimport\u001b[0m \u001b[0mpycxsimulator\u001b[0m\u001b[0;34m\u001b[0m\u001b[0m\n\u001b[0m\u001b[1;32m      2\u001b[0m \u001b[0mpycxsimulator\u001b[0m\u001b[0;34m.\u001b[0m\u001b[0mGUI\u001b[0m\u001b[0;34m(\u001b[0m\u001b[0;34m)\u001b[0m\u001b[0;34m.\u001b[0m\u001b[0mstart\u001b[0m\u001b[0;34m(\u001b[0m\u001b[0mfunc\u001b[0m\u001b[0;34m=\u001b[0m\u001b[0;34m[\u001b[0m\u001b[0minit\u001b[0m\u001b[0;34m,\u001b[0m\u001b[0mdraw\u001b[0m\u001b[0;34m,\u001b[0m\u001b[0mstep\u001b[0m\u001b[0;34m]\u001b[0m\u001b[0;34m)\u001b[0m\u001b[0;34m\u001b[0m\u001b[0m\n",
      "\u001b[0;31mImportError\u001b[0m: No module named pycxsimulator"
     ]
    }
   ],
   "source": [
    "import pycxsimulator\n",
    "pycxsimulator.GUI().start(func=[init,draw,step])"
   ]
  },
  {
   "cell_type": "code",
   "execution_count": null,
   "metadata": {
    "collapsed": true
   },
   "outputs": [],
   "source": [
    "## TO DO\n",
    "create variablity in persoanl assistant performance (perform poorly .2 of time)\n",
    "low performance for one VA\n",
    "and constant medium for other\n",
    "consider adding office VA for shared in future model\n",
    "add impression changes as expectations (p.959, Denrell.) 6th piece of info is weighted .3. And below50% when negaitve. \n"
   ]
  }
 ],
 "metadata": {
  "kernelspec": {
   "display_name": "Python 2",
   "language": "python",
   "name": "python2"
  },
  "language_info": {
   "codemirror_mode": {
    "name": "ipython",
    "version": 2
   },
   "file_extension": ".py",
   "mimetype": "text/x-python",
   "name": "python",
   "nbconvert_exporter": "python",
   "pygments_lexer": "ipython2",
   "version": "2.7.14"
  }
 },
 "nbformat": 4,
 "nbformat_minor": 2
}
