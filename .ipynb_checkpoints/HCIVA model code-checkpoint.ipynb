{
 "cells": [
  {
   "cell_type": "markdown",
   "metadata": {},
   "source": [
    "# IMPORT LIBRARIES\n",
    "This part imports libraries"
   ]
  },
  {
   "cell_type": "code",
   "execution_count": null,
   "metadata": {
    "collapsed": true
   },
   "outputs": [],
   "source": [
    "import matplotlib\n",
    "matplotlib.use('TkAgg')\n",
    "\n",
    "import random as RD\n",
    "import pylab as PL\n",
    "import scipy as SP\n",
    "import networkx as nx\n",
    "from networkx.algorithms import bipartite\n",
    "\n",
    "#for visualization Sayama p310\n",
    "from pylab import *\n",
    "#import networkx as nx\n",
    "#g = nx.karate_club_graph()\n",
    "\n",
    "\n",
    "RD.seed()\n"
   ]
  },
  {
   "cell_type": "markdown",
   "metadata": {},
   "source": [
    "# Create graph\n",
    "This part creates the bipartite graph with nodes and edges.\n",
    "Note: the current setup contains 6 nodes of one type and 10 of the other with variablity in connections\n",
    "\n",
    "Note: NetworkX does not have a custom bipartite graph class but the Graph() or DiGraph() classes can be used to represent bipartite graphs. Keep track of which set each node belongs to, and make sure that there is no edge between nodes of the same set (this inhibits me from having personal targets learn from each other; expansion possible with tripartite on conglomerate sharing). The convention used in NetworkX is to use a node attribute named bipartite with values 0 or 1 to identify the sets each node belongs to. "
   ]
  },
  {
   "cell_type": "code",
   "execution_count": null,
   "metadata": {},
   "outputs": [],
   "source": [
    "B = nx.Graph()\n",
    "# Add the node attribute \"bipartite\" - Peceivers = 0\n",
    "B.add_nodes_from([1,2,3,4, 5, 6], bipartite=0) \n",
    "# Add the node attribute \"bipartite\" - Targets = 1\n",
    "B.add_nodes_from(['a','b','c', 'd','e', 'f', 'g', 'h', 'm', 'q'], bipartite=1)\n",
    "B.add_edges_from([(1,'a'), (1,'e'), (1,'f'), (2,'b'), (2,'e'), (2,'g'), \n",
    "                  (3,'c'), (3,'e'), (3,'h'),(3,'g'),(4,'d'), (5, 'm'), (6, 'q')])\n",
    "\n",
    "\n"
   ]
  },
  {
   "cell_type": "markdown",
   "metadata": {},
   "source": [
    "# Create two sets for \"bipartite\"\n",
    " Did this because False on nx.is.connected(B); better of for titling\n",
    " \n",
    " Reference: https://networkx.github.io/documentation/networkx-1.9/reference/algorithms.bipartite.html?highlight=bipartite"
   ]
  },
  {
   "cell_type": "code",
   "execution_count": null,
   "metadata": {},
   "outputs": [],
   "source": [
    "perceivers = {n for n, d in B.nodes(data=True) if d['bipartite']==0}\n",
    "targets = set(B) - perceivers\n",
    "\n",
    "#nx.is_connected(B)\n",
    "\n",
    "#perceivers, targets = bipartite.sets(B)\n",
    "#reference---  bottom_nodes, top_nodes = bipartite.sets(B)\n"
   ]
  },
  {
   "cell_type": "markdown",
   "metadata": {},
   "source": [
    "## Test Connections\n",
    "Only run this to test connections in setup"
   ]
  },
  {
   "cell_type": "code",
   "execution_count": null,
   "metadata": {},
   "outputs": [],
   "source": [
    "#Test connections\n",
    "nx.is_connected(B)\n",
    "#bottom_nodes, top_nodes = bipartite.sets(B)\n",
    "\n",
    "\n",
    "\n",
    "print B.number_of_nodes()\n",
    "print B.number_of_edges()\n",
    "print list(B.nodes) #lists all agents\n",
    "print list(B.edges) #lists all connections\n",
    "print list(B.adj[1])\n",
    "print B.degree[1]\n",
    "\n",
    "print perceivers\n",
    "\n",
    "\n",
    "\n",
    "#nx.connected_components(B)"
   ]
  },
  {
   "cell_type": "markdown",
   "metadata": {},
   "source": [
    "test out. Need to initialize, observe and update"
   ]
  },
  {
   "cell_type": "code",
   "execution_count": null,
   "metadata": {
    "collapsed": true
   },
   "outputs": [],
   "source": []
  },
  {
   "cell_type": "markdown",
   "metadata": {},
   "source": [
    "## Bookmark step\n",
    "So you can easily use the bipartite algorithms that require, as an argument, a container with all nodes that belong to one node set:"
   ]
  },
  {
   "cell_type": "code",
   "execution_count": null,
   "metadata": {
    "collapsed": true
   },
   "outputs": [],
   "source": []
  },
  {
   "cell_type": "code",
   "execution_count": null,
   "metadata": {},
   "outputs": [],
   "source": [
    "print(round(bipartite.density(B, targets),2))  #avg of weights?? https://networkx.github.io/documentation/networkx-1.9/reference/algorithms.bipartite.html?highlight=bipartite\n",
    "G = bipartite.projected_graph(B, targets)\n",
    "G.edges()"
   ]
  },
  {
   "cell_type": "code",
   "execution_count": 9,
   "metadata": {},
   "outputs": [
    {
     "data": {
      "text/plain": [
       "NodeView(('a', 'c', 'b', 'e', 'd', 'g', 'f', 'h', 'm', 'q'))"
      ]
     },
     "execution_count": 9,
     "metadata": {},
     "output_type": "execute_result"
    }
   ],
   "source": [
    "#G.node\n",
    "#result is not showing braces like sayama p306"
   ]
  },
  {
   "cell_type": "code",
   "execution_count": null,
   "metadata": {},
   "outputs": [],
   "source": [
    "nx.draw(G)\n",
    "show()"
   ]
  },
  {
   "cell_type": "markdown",
   "metadata": {},
   "source": [
    "## Need to add attributes and their values"
   ]
  },
  {
   "cell_type": "markdown",
   "metadata": {},
   "source": [
    "## stab at initialization\n",
    "this copies some of the above so should be here\n"
   ]
  },
  {
   "cell_type": "code",
   "execution_count": null,
   "metadata": {
    "collapsed": true
   },
   "outputs": [],
   "source": [
    "#sayama 329\n",
    "def initialize():\n",
    "    global B, nextB\n",
    "#B =  bipartite.projected_graph(B, targets)\n",
    "B.pos = nx.spring_layout(B)\n",
    "for i in B.nodes_iter():\n",
    "    B.node[i][’state’] = 1 if [i.isletter] else 0\n",
    "nextB = B.copy()"
   ]
  },
  {
   "cell_type": "code",
   "execution_count": null,
   "metadata": {
    "collapsed": true
   },
   "outputs": [],
   "source": []
  }
 ],
 "metadata": {
  "kernelspec": {
   "display_name": "Python 2",
   "language": "python",
   "name": "python2"
  },
  "language_info": {
   "codemirror_mode": {
    "name": "ipython",
    "version": 2
   },
   "file_extension": ".py",
   "mimetype": "text/x-python",
   "name": "python",
   "nbconvert_exporter": "python",
   "pygments_lexer": "ipython2",
   "version": "2.7.14"
  }
 },
 "nbformat": 4,
 "nbformat_minor": 2
}
