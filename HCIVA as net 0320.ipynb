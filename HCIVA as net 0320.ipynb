{
 "cells": [
  {
   "cell_type": "markdown",
   "metadata": {},
   "source": [
    "## Bipartite model for HCI in VA\n",
    "\n",
    "what's going on:\n",
    "-taking a stab at multiple options for code\n",
    "-changing all expectations and performances to be properties of nodes. Can change to edges in later versions.\n",
    "\n",
    "\n",
    "\n",
    "this some thoughts:\n",
    "start with learning from self. \n",
    "other models where one can learn from others\n",
    "\n",
    "start with each 1:1 learning to adjust performance and expectation\n",
    "other model to compare where machines learn across people\n",
    "\n",
    "Need to:\n",
    "Add metrics from literature on learning. (P, D)\n",
    "Add probability of interaction. Start with representations of usage levels\n",
    "Add color coding for types of nodes.\n",
    "Change values of expectations into an array belonging to node (for history, approx 7 instances)\n",
    "\n",
    "Options:\n",
    "add learning in public (office assistant)\n",
    "\n"
   ]
  },
  {
   "cell_type": "markdown",
   "metadata": {},
   "source": [
    "## TO DO\n",
    "\n",
    "--ADD #15 tests to setup tests\n",
    "\n",
    "create variablity in persoanl assistant performance (perform poorly .2 of time)\n",
    "\n",
    "if x assistant ubnderperfoms 5 times, cut interaction.\n",
    "\n",
    "low performance for one VA and constant medium for other\n",
    "\n",
    "consider adding office VA for shared in future model\n",
    "\n",
    "add impression changes as expectations (p.959, Denrell.) 6th piece of info is weighted .3. And below50% when negaitve. \n",
    "\n"
   ]
  },
  {
   "cell_type": "code",
   "execution_count": 51,
   "metadata": {
    "collapsed": true
   },
   "outputs": [],
   "source": [
    "## for python, to get pycx\n",
    "#import os\n",
    "#print os.getcwd()\n",
    "#import sys\n",
    "#module_path = os.path.abspath(os.path.join('.'))\n",
    "#if module_path not in sys.path:\n",
    "#    sys.path.append(module_path)\n",
    "\n",
    "#sys.path.append(os.path.join(os.getcwd(), \"pycx-0.32\"))    \n",
    "    \n",
    "#print sys.path"
   ]
  },
  {
   "cell_type": "markdown",
   "metadata": {},
   "source": [
    "## Import libraries "
   ]
  },
  {
   "cell_type": "code",
   "execution_count": 1,
   "metadata": {
    "collapsed": true
   },
   "outputs": [],
   "source": [
    "\n",
    "%matplotlib inline \n",
    "#taken from assignment\n",
    "\n",
    "import networkx as nx\n",
    "import numpy\n",
    "import matplotlib.pyplot as plt\n",
    "\n",
    "from networkx.algorithms import bipartite\n",
    "\n",
    "#import matplotlib\n",
    "#matplotlib.use('TkAgg')\n",
    "\n",
    "import pylab as PL\n",
    "import random as RD\n",
    "\n",
    "\n",
    "\n",
    "RD.seed()\n",
    "\n",
    "PoorVAProb = 0.2 #probability that VA severely underperforms\n",
    "\n",
    "\n",
    "#col = {0:'w', 1:'k'} --  consider a property for perceivers only that illustrates level of expectations met\n"
   ]
  },
  {
   "cell_type": "markdown",
   "metadata": {},
   "source": [
    "## Create graph\n",
    "\n",
    "This part creates the bipartite graph with nodes and edges. Note: the current setup contains 6 nodes of one type and 10 of the other with variablity in connections\n",
    "Note: NetworkX does not have a custom bipartite graph class but the Graph() or DiGraph() classes can be used to represent bipartite graphs. Keep track of which set each node belongs to, and make sure that there is no edge between nodes of the same set (this inhibits me from having personal targets learn from each other; expansion possible with tripartite on conglomerate sharing). The convention used in NetworkX is to use a node attribute named bipartite with values 0 or 1 to identify the sets each node belongs to."
   ]
  },
  {
   "cell_type": "markdown",
   "metadata": {},
   "source": [
    "## Option 1 (using)\n"
   ]
  },
  {
   "cell_type": "code",
   "execution_count": 2,
   "metadata": {
    "collapsed": true
   },
   "outputs": [],
   "source": [
    "B = nx.Graph()  #nx path graph?\n",
    "#B.pos = nx.spring_layout(B)\n",
    "B.add_nodes_from([1,2,3,4, 5, 6], bipartite=0) #perceivers, top nodes\n",
    "# Add the node attribute \"bipartite\" - Targets = 1\n",
    "B.add_nodes_from(['a','b','c', 'd','e', 'f', 'g', 'h', 'm', 'q'], bipartite=1)\n",
    "B.add_edges_from([(1,'a'), (1,'e'), (1,'f'), (2,'b'), (2,'e'), (2,'g'), \n",
    "                  (3,'c'), (3,'e'), (3,'h'),(3,'g'),(4,'d'), (5, 'm'), (6, 'q')])\n",
    "\n"
   ]
  },
  {
   "cell_type": "code",
   "execution_count": 3,
   "metadata": {},
   "outputs": [
    {
     "name": "stdout",
     "output_type": "stream",
     "text": [
      "(16, 13)\n"
     ]
    }
   ],
   "source": [
    "print((B.number_of_nodes(), B.number_of_edges())) \n"
   ]
  },
  {
   "cell_type": "markdown",
   "metadata": {},
   "source": [
    "## Option 2 (not using)\n"
   ]
  },
  {
   "cell_type": "code",
   "execution_count": 29,
   "metadata": {
    "collapsed": true
   },
   "outputs": [],
   "source": [
    "# try naming sets\n",
    "#perceivers = set([1,2,3,4,5,6])\n",
    "#bipartite.is_bipartite_node_set(G,perceivers)\n"
   ]
  },
  {
   "cell_type": "code",
   "execution_count": 27,
   "metadata": {
    "collapsed": true
   },
   "outputs": [],
   "source": [
    "#targets = set(['a','b','c', 'd','e', 'f', 'g', 'h', 'm', 'q'])\n",
    "#targets, perceivers = bipartite.sets(G) #gets error on ambiguous sets found in NetworkX 2. \"AmbiguousSolution: Disconnected graph: Ambiguous solution for bipartite sets\""
   ]
  },
  {
   "cell_type": "markdown",
   "metadata": {},
   "source": [
    "Below bool from Sayama, only TRUE in Option 2"
   ]
  },
  {
   "cell_type": "code",
   "execution_count": 28,
   "metadata": {
    "collapsed": true
   },
   "outputs": [],
   "source": [
    "#nx.is_connected(B)\n"
   ]
  },
  {
   "cell_type": "markdown",
   "metadata": {},
   "source": [
    "## Create two sets for \"bipartite\"\n",
    "\n",
    "Did this because False on nx.is.connected(B); better of for titling\n",
    "\n",
    "Reference: https://networkx.github.io/documentation/networkx-1.9/reference/algorithms.bipartite.html?highlight=bipartite\n"
   ]
  },
  {
   "cell_type": "code",
   "execution_count": 4,
   "metadata": {},
   "outputs": [
    {
     "name": "stdout",
     "output_type": "stream",
     "text": [
      "set([1, 2, 3, 4, 5, 6])\n",
      "set(['a', 'c', 'b', 'e', 'd', 'g', 'f', 'h', 'm', 'q'])\n"
     ]
    }
   ],
   "source": [
    "#make them targets and perceivers\n",
    "perceivers = {n for n, d in B.nodes(data=True) if d['bipartite']==0} # perceivers top\n",
    "targets = set(B) - perceivers\n",
    "\n",
    "print perceivers\n",
    "print targets"
   ]
  },
  {
   "cell_type": "code",
   "execution_count": 48,
   "metadata": {},
   "outputs": [
    {
     "name": "stdout",
     "output_type": "stream",
     "text": [
      "{'a': 1, 1: 0, 2: 0, 3: 0, 'e': 1, 'd': 0, 'g': 1, 'f': 1, 'h': 1, 'm': 0, 'c': 1, 'q': 0, 'b': 1, 4: 1, 6: 1, 5: 1}\n"
     ]
    },
    {
     "data": {
      "image/png": "[encoded data removed]",
      "text/plain": [
       "<matplotlib.figure.Figure at 0x10dbc7e10>"
      ]
     },
     "metadata": {},
     "output_type": "display_data"
    }
   ],
   "source": [
    "#B_layout = nx.spring_layout(B, iterations=1000)\n",
    "#nx.draw_networkx(B, pos=B_layout)\n",
    "#why are there no edges????\n",
    "\n",
    "#c = bipartite.color(B)\n",
    "#print(c)\n",
    "nx.draw_networkx(B)"
   ]
  },
  {
   "cell_type": "markdown",
   "metadata": {},
   "source": [
    "## Add attributes (option 1)\n",
    "all values in setup are arbitrary during program development"
   ]
  },
  {
   "cell_type": "code",
   "execution_count": 5,
   "metadata": {
    "collapsed": true
   },
   "outputs": [],
   "source": [
    "\n",
    "\n",
    "#SET INITIAL WEIGHTS FOR EXPECTATIONS\n",
    "\n",
    "B.node['a']['VA.type'] = 'personal assistant'\n",
    "B.node['b']['VA.type'] = 'personal assistant'\n",
    "B.node['c']['VA.type'] = 'personal assistant'\n",
    "B.node['d']['VA.type'] = 'personal assistant'\n",
    "B.node['m']['VA.type'] = 'personal assistant'\n",
    "B.node['e']['VA.type'] = 'bank assistant'  # could open up learning through neighbors since public interaction\n",
    "B.node['f']['VA.type'] = 'customer service assistant'\n",
    "B.node['g']['VA.type'] = 'customer service assistant'\n",
    "B.node['h']['VA.type'] = 'purchasing assistant'\n",
    "B.node['q']['VA.type'] = 'health assistant'\n",
    "\n",
    "#B.node['1']['expectation.1'] = 20 #an independent expectation? or owned by edge?\n",
    "#say there are x factors involved in expectation. start with 3\n",
    "#FIXME values are placeholders\n",
    "B.node[1]['expectation.1'] = 100 #array.1 #FIXME to define array somewhere \n",
    "B.node[1]['expectation.2'] = 20 \n",
    "B.node[1]['expectation.3'] = 60 \n",
    "\n",
    "B.node[1]['expectation.1'] = 20 \n",
    "B.node[1]['expectation.2'] = 40 \n",
    "B.node[1]['expectation.3'] = 20 \n",
    "\n",
    "B.node[1]['expectation.1'] = 20 #owned by edge so part of relationship\n",
    "B.node[1]['expectation.2'] = 20 \n",
    "B.node[1]['expectation.3'] = 20 #owned by edge so part of relationship\n",
    "\n",
    "B.node[2]['expectation.1'] = 20 \n",
    "B.node[2]['expectation.2'] = 20 \n",
    "B.node[2]['expectation.3'] = 20 \n",
    "\n",
    "B.node[2]['expectation.1'] = 20 \n",
    "B.node[2]['expectation.2'] = 20 \n",
    "B.node[2]['expectation.3'] = 20 \n",
    "\n",
    "B.node[2]['expectation.1'] = 20 \n",
    "B.node[2]['expectation.2'] = 20 \n",
    "B.node[2]['expectation.3'] = 20 \n",
    "\n",
    "B.node[3]['expectation.1'] = 20 \n",
    "B.node[3]['expectation.2'] = 20 \n",
    "B.node[3]['expectation.3'] = 20 \n",
    "\n",
    "B.node[3]['expectation.1'] = 20 \n",
    "B.node[3]['expectation.2'] = 20 \n",
    "B.node[3]['expectation.3'] = 20 \n",
    "\n",
    "B.node[3]['expectation.1'] = 20 \n",
    "B.node[3]['expectation.2'] = 20 \n",
    "B.node[3]['expectation.3'] = 20 \n",
    "\n",
    "B.node[3]['expectation.1'] = 20 \n",
    "B.node[3]['expectation.2'] = 20 \n",
    "B.node[3]['expectation.3'] = 20 \n",
    "\n",
    "B.node[4]['expectation.1'] = 20 \n",
    "B.node[4]['expectation.2'] = 20 \n",
    "B.node[4]['expectation.3'] = 20 \n",
    "\n",
    "B.node[5]['expectation.1'] = 20 \n",
    "B.node[5]['expectation.2'] = 20 \n",
    "B.node[5]['expectation.3'] = 20 \n",
    "\n",
    "B.node[6]['expectation.1'] = 20 \n",
    "B.node[6]['expectation.2'] = 20 \n",
    "B.node[6]['expectation.3'] = 20 \n",
    "\n",
    "#setting performance variables\n",
    "##Starting with performance variables as being owned by VA. but really should be owned by edge...\n",
    "\n",
    "B.node['a']['performance.1'] = 0\n",
    "B.node['a']['performance.2'] = 0\n",
    "B.node['a']['performance.3'] = 0\n",
    "\n",
    "B.node['b']['performance.1'] = 0\n",
    "B.node['b']['performance.2'] = 0\n",
    "B.node['b']['performance.3'] = 0\n",
    "\n",
    "B.node['c']['performance.1'] = 0\n",
    "B.node['c']['performance.2'] = 0\n",
    "B.node['c']['performance.3'] = 0\n",
    "\n",
    "B.node['d']['performance.1'] = 0\n",
    "B.node['d']['performance.2'] = 0\n",
    "B.node['d']['performance.3'] = 0\n",
    "\n",
    "B.node['e']['performance.1'] = 0\n",
    "B.node['e']['performance.2'] = 0\n",
    "B.node['e']['performance.3'] = 0\n",
    "\n",
    "B.node['f']['performance.1'] = 0\n",
    "B.node['f']['performance.2'] = 0\n",
    "B.node['f']['performance.3'] = 0\n",
    "\n",
    "B.node['g']['performance.1'] = 0\n",
    "B.node['g']['performance.2'] = 0\n",
    "B.node['g']['performance.3'] = 0\n",
    "\n",
    "B.node['h']['performance.1'] = 0\n",
    "B.node['h']['performance.2'] = 0\n",
    "B.node['h']['performance.3'] = 0\n",
    "\n",
    "B.node['m']['performance.1'] = 0\n",
    "B.node['m']['performance.2'] = 0\n",
    "B.node['m']['performance.3'] = 0\n",
    "\n",
    "B.node['q']['performance.1'] = 0\n",
    "B.node['q']['performance.2'] = 0\n",
    "B.node['q']['performance.3'] = 0"
   ]
  },
  {
   "cell_type": "markdown",
   "metadata": {},
   "source": [
    "## Add attributes (Option 2, not using)"
   ]
  },
  {
   "cell_type": "code",
   "execution_count": 6,
   "metadata": {
    "collapsed": true
   },
   "outputs": [],
   "source": [
    "\n",
    "\n",
    "#SET INITIAL WEIGHTS FOR EXPECTATIONS\n",
    "\n",
    "B.node['a']['VA.type'] = 'personal assistant'\n",
    "B.node['b']['VA.type'] = 'personal assistant'\n",
    "B.node['c']['VA.type'] = 'personal assistant'\n",
    "B.node['d']['VA.type'] = 'personal assistant'\n",
    "B.node['m']['VA.type'] = 'personal assistant'\n",
    "B.node['e']['VA.type'] = 'bank assistant'  # could open up learning through neighbors since public interaction\n",
    "B.node['f']['VA.type'] = 'customer service assistant'\n",
    "B.node['g']['VA.type'] = 'customer service assistant'\n",
    "B.node['h']['VA.type'] = 'purchasing assistant'\n",
    "B.node['q']['VA.type'] = 'health assistant'\n",
    "\n",
    "#B.node['1']['expectation.1'] = start at max bc why not #an independent expectation? or owned by edge?\n",
    "#say there are x factors involved in expectation. start with 3\n",
    "#FIXME values are placeholders\n",
    "B.adj[1]['a']['expectation.1'] = 1 #array.1 #FIXME to define array somewhere \n",
    "B.adj[1]['a']['expectation.2'] = 1 \n",
    "B.adj[1]['a']['expectation.3'] = 1 \n",
    "\n",
    "B.adj[1]['e']['expectation.1'] = 1 \n",
    "B.adj[1]['e']['expectation.2'] = 1 \n",
    "B.adj[1]['e']['expectation.3'] = 1 \n",
    "\n",
    "B.adj[1]['f']['expectation.1'] = 1 \n",
    "B.adj[1]['f']['expectation.2'] = 1 \n",
    "B.adj[1]['f']['expectation.3'] = 1 \n",
    "\n",
    "B.adj[2]['b']['expectation.1'] = 1 \n",
    "B.adj[2]['b']['expectation.2'] = 1 \n",
    "B.adj[2]['b']['expectation.3'] = 1 \n",
    "\n",
    "B.adj[2]['e']['expectation.1'] = 1 \n",
    "B.adj[2]['e']['expectation.2'] = 1 \n",
    "B.adj[2]['e']['expectation.3'] = 1 \n",
    "\n",
    "B.adj[2]['g']['expectation.1'] = 1 \n",
    "B.adj[2]['g']['expectation.2'] = 1 \n",
    "B.adj[2]['g']['expectation.3'] = 1 \n",
    "\n",
    "B.adj[3]['c']['expectation.1'] = 1 \n",
    "B.adj[3]['c']['expectation.2'] = 1 \n",
    "B.adj[3]['c']['expectation.3'] = 1 \n",
    "\n",
    "B.adj[3]['e']['expectation.1'] = 1 \n",
    "B.adj[3]['e']['expectation.2'] = 1 \n",
    "B.adj[3]['e']['expectation.3'] = 1 \n",
    "\n",
    "B.adj[3]['h']['expectation.1'] = 1 \n",
    "B.adj[3]['h']['expectation.2'] = 1 \n",
    "B.adj[3]['h']['expectation.3'] = 1 \n",
    "\n",
    "B.adj[3]['g']['expectation.1'] = 1 \n",
    "B.adj[3]['g']['expectation.2'] = 1 \n",
    "B.adj[3]['g']['expectation.3'] = 1 \n",
    "\n",
    "B.adj[4]['d']['expectation.1'] = 1 \n",
    "B.adj[4]['d']['expectation.2'] = 1 \n",
    "B.adj[4]['d']['expectation.3'] = 1 \n",
    "\n",
    "B.adj[5]['m']['expectation.1'] = 1 \n",
    "B.adj[5]['m']['expectation.2'] = 1 \n",
    "B.adj[5]['m']['expectation.3'] = 1 \n",
    "\n",
    "B.adj[6]['q']['expectation.1'] = 1 \n",
    "B.adj[6]['q']['expectation.2'] = 1 \n",
    "B.adj[6]['q']['expectation.3'] = 1 \n",
    "\n",
    "#setting performance variables\n",
    "##Starting with performance variables as being owned by VA. but really should be owned by edge...\n",
    "\n",
    "B.node['a']['performance.1'] = 0\n",
    "B.node['a']['performance.2'] = 0\n",
    "B.node['a']['performance.3'] = 0\n",
    "\n",
    "B.node['b']['performance.1'] = 0\n",
    "B.node['b']['performance.2'] = 0\n",
    "B.node['b']['performance.3'] = 0\n",
    "\n",
    "B.node['c']['performance.1'] = 0\n",
    "B.node['c']['performance.2'] = 0\n",
    "B.node['c']['performance.3'] = 0\n",
    "\n",
    "B.node['d']['performance.1'] = 0\n",
    "B.node['d']['performance.2'] = 0\n",
    "B.node['d']['performance.3'] = 0\n",
    "\n",
    "B.node['e']['performance.1'] = 0\n",
    "B.node['e']['performance.2'] = 0\n",
    "B.node['e']['performance.3'] = 0\n",
    "\n",
    "B.node['f']['performance.1'] = 0\n",
    "B.node['f']['performance.2'] = 0\n",
    "B.node['f']['performance.3'] = 0\n",
    "\n",
    "B.node['g']['performance.1'] = 0\n",
    "B.node['g']['performance.2'] = 0\n",
    "B.node['g']['performance.3'] = 0\n",
    "\n",
    "B.node['h']['performance.1'] = 0\n",
    "B.node['h']['performance.2'] = 0\n",
    "B.node['h']['performance.3'] = 0\n",
    "\n",
    "B.node['m']['performance.1'] = 0\n",
    "B.node['m']['performance.2'] = 0\n",
    "B.node['m']['performance.3'] = 0\n",
    "\n",
    "B.node['q']['performance.1'] = 0\n",
    "B.node['q']['performance.2'] = 0\n",
    "B.node['q']['performance.3'] = 0"
   ]
  },
  {
   "cell_type": "markdown",
   "metadata": {},
   "source": [
    "## visualize graph (not using)\n",
    "not using spring (which documemntation says is default...)"
   ]
  },
  {
   "cell_type": "code",
   "execution_count": 68,
   "metadata": {},
   "outputs": [
    {
     "data": {
      "image/png": "[encoded data removed]",
      "text/plain": [
       "<matplotlib.figure.Figure at 0x1517eef290>"
      ]
     },
     "metadata": {},
     "output_type": "display_data"
    }
   ],
   "source": [
    "#B_layout = nx.spring_layout(B, iterations=1000)\n",
    "#nx.draw_networkx(B, pos=B_layout)"
   ]
  },
  {
   "cell_type": "markdown",
   "metadata": {},
   "source": [
    "## Test Connections\n",
    "Only run this to test setup"
   ]
  },
  {
   "cell_type": "code",
   "execution_count": 7,
   "metadata": {},
   "outputs": [
    {
     "name": "stdout",
     "output_type": "stream",
     "text": [
      "16\n",
      "13\n",
      "['a', 1, 2, 3, 4, 5, 6, 'f', 'h', 'm', 'c', 'q', 'g', 'b', 'e', 'd']\n",
      "[('a', 1), (1, 'e'), (1, 'f'), (2, 'b'), (2, 'e'), (2, 'g'), (3, 'h'), (3, 'c'), (3, 'e'), (3, 'g'), (4, 'd'), (5, 'm'), (6, 'q')]\n",
      "['a', 'c', 'b', 'e', 'd', 'g', 'f', 'h', 'm', 'q']\n",
      "['a', 'e', 'f']\n",
      "3\n",
      "set([1, 2, 3, 4, 5, 6])\n",
      "True\n",
      "{('a', 1): {'expectation.1': 1, 'expectation.3': 1, 'expectation.2': 1}, (3, 'c'): {'expectation.1': 1, 'expectation.3': 1, 'expectation.2': 1}, (2, 'g'): {'expectation.1': 1, 'expectation.3': 1, 'expectation.2': 1}, (4, 'd'): {'expectation.1': 1, 'expectation.3': 1, 'expectation.2': 1}, (5, 'm'): {'expectation.1': 1, 'expectation.3': 1, 'expectation.2': 1}, (1, 'e'): {'expectation.1': 1, 'expectation.3': 1, 'expectation.2': 1}, (6, 'q'): {'expectation.1': 1, 'expectation.3': 1, 'expectation.2': 1}, (3, 'h'): {'expectation.1': 1, 'expectation.3': 1, 'expectation.2': 1}, (2, 'b'): {'expectation.1': 1, 'expectation.3': 1, 'expectation.2': 1}, (3, 'g'): {'expectation.1': 1, 'expectation.3': 1, 'expectation.2': 1}, (1, 'f'): {'expectation.1': 1, 'expectation.3': 1, 'expectation.2': 1}, (3, 'e'): {'expectation.1': 1, 'expectation.3': 1, 'expectation.2': 1}, (2, 'e'): {'expectation.1': 1, 'expectation.3': 1, 'expectation.2': 1}}\n"
     ]
    }
   ],
   "source": [
    "\n",
    "#Test connections\n",
    "nx.is_connected(B)\n",
    "#bottom_nodes, top_nodes = bipartite.sets(B)\n",
    "\n",
    "\n",
    "\n",
    "print B.number_of_nodes()\n",
    "print B.number_of_edges()\n",
    "print list(B.nodes)\n",
    "print list(B.edges)\n",
    "print list(targets)\n",
    "print list(B.adj[1])\n",
    "print B.degree[1]\n",
    "\n",
    "print perceivers\n",
    "\n",
    "print(bipartite.is_bipartite(B))\n",
    "bipartite.is_bipartite_node_set(B,perceivers)\n",
    "bipartite.is_bipartite_node_set(B,targets)\n",
    "\n",
    "print dict(B.edges)\n",
    "#bipartite code not working https://networkx.github.io/documentation/latest/reference/algorithms/bipartite.html\n",
    "#sets(B[, perceivers])\n",
    "#color(B)\n",
    "#nx.connected_components(B)"
   ]
  },
  {
   "cell_type": "markdown",
   "metadata": {},
   "source": [
    "## (placeholder) set initial expectations and performance values"
   ]
  },
  {
   "cell_type": "code",
   "execution_count": 14,
   "metadata": {
    "collapsed": true
   },
   "outputs": [],
   "source": [
    "def init():\n",
    "    global B, nextB\n",
    "    \n",
    "    time = 0\n",
    "    \n",
    "    B = nx.Graph() # do i need to state this again?\n",
    "    for i in B.nodes():\n",
    "        B.node[i]['performance.1'] = .7 if random() < .5 else .3\n",
    "    \n",
    "    nextB = B.copy()\n",
    "    #do i need to return anythign else?"
   ]
  },
  {
   "cell_type": "markdown",
   "metadata": {},
   "source": [
    "## Draw network. NEED TO FILL THIS OUT\n"
   ]
  },
  {
   "cell_type": "code",
   "execution_count": 15,
   "metadata": {
    "collapsed": true
   },
   "outputs": [],
   "source": [
    "def draw():\n",
    "    PL.cla()\n",
    "    nx.draw(B, pos, node_color=range(24), node_size=600, cmap=plt.cm.Reds) #, pos = positions, edge_color = [col[network.node[n]['state']] for n in network.nodes()])\n",
    "   # nx.draw(G, pos, node_color=range(24), node_size=800, cmap=plt.cm.Blues)\n",
    "    #https://networkx.github.io/documentation/stable/auto_examples/drawing/plot_node_colormap.html\n",
    " \n",
    "#    nx.draw(g, vmin = 0, vmax = 1,\n",
    "#            node_color = [g.nodes[i]['state'] for i in g.nodes],\n",
    "#            pos = g.pos)\n",
    "    PL.axis('image')\n",
    "    PL.title('t = ' + str(time))"
   ]
  },
  {
   "cell_type": "code",
   "execution_count": null,
   "metadata": {
    "collapsed": true
   },
   "outputs": [],
   "source": [
    "##in SPYDER\n",
    "def draw():\n",
    "    PL.cla()\n",
    "    #nx.draw(B, pos, node_color=range(24), node_size=600, cmap=plt.cm.Reds) #, pos = positions, edge_color = [col[network.node[n]['state']] for n in network.nodes()])\n",
    "\n",
    "   # nx.draw(B) #, pos = positions, edge_color = [col[network.node[n]['state']] for n in network.nodes()])\n",
    "    nx.draw(B, vmin = 0, vmax = 1, \n",
    "            node_color = [B.nodes[i]['expectation'] for i in B.nodes], \n",
    "            cmap=plt.cm.Reds, \n",
    "            pos = g.pos)\n",
    "    PL.axis('image')\n",
    "    PL.title('t = ' + str(time))"
   ]
  },
  {
   "cell_type": "markdown",
   "metadata": {},
   "source": [
    "## The STEP"
   ]
  },
  {
   "cell_type": "code",
   "execution_count": 16,
   "metadata": {
    "collapsed": true
   },
   "outputs": [],
   "source": [
    "def step():\n",
    "    global time, B, nextB\n",
    "\n",
    "    time += 1\n",
    "\n",
    " #this code assumes constant performance and also assumes constant interaction\n",
    "\n",
    "    for i in B.nodes(): \n",
    "        for j in B.neighbors(i):\n",
    "            \n",
    "        if B.node[n]['performance.1'] == B.node[n]['expectation.1'] : #don't need type\n",
    "           # nextB.node[i]['state'] = 100 #FIXME placeholder value\n",
    "            nextB.node[n]]['expectation.1'] = 50\n",
    "            for j in B.adj(i):\n",
    "                if B.adj[j]['expectation.1'] < 60 : #if it's generally high\n",
    "                    if RD.random() < PoorVAProb:\n",
    "                   # if RD.random() < infectionProb:\n",
    "                        nextB.node[i]['expectation.1'] = 5\n",
    "                        break\n",
    "                    else: # adaptive link cutting behavior\n",
    "                        nextB.node[i]['expectation.1'] = B.node[i]['expectation.1'] + 10\n",
    "        if B.node[target]['performance.1'] < B.adj[perceiver][target]['expectation.1'] :        # if B.node[target]['performance.1'] < B.adj[perceiver][target]['expectation.1']\n",
    "\n",
    "           nextB.adj[perceiver][target]['expectation.1'] = 10\n",
    "           \n",
    "                \n",
    "        else:\n",
    "             nextB.adj[perceiver][target]['expectation.1'] = B.adj[perceiver][target]['expectation.1'] + 40\n",
    "                \n",
    "    del B\n",
    "    B = nextB.copy()"
   ]
  },
  {
   "cell_type": "markdown",
   "metadata": {},
   "source": [
    "## Step as line code (outside of fxn)"
   ]
  },
  {
   "cell_type": "code",
   "execution_count": null,
   "metadata": {
    "collapsed": true
   },
   "outputs": [],
   "source": [
    "for i in B.nodes(): #for i in perceiver():\n",
    "        if B.node[i]['performance.1'] == B.adj[i][j]['expectation.1'] :\n",
    "           # nextB.node[i]['state'] = 100 #FIXME placeholder value\n",
    "            nextB.adj[perceiver][target]['expectation.1'] = 50\n",
    "            for j in B.adj(i):\n",
    "                if B.adj[j]['expectation.1'] < 60 : #if it's generally high\n",
    "                    if RD.random() < PoorVAProb:\n",
    "                   # if RD.random() < infectionProb:\n",
    "                        nextB.node[i]['expectation.1'] = 5\n",
    "                        break\n",
    "                    else: # adaptive link cutting behavior\n",
    "                        nextB.node[i]['expectation.1'] = B.node[i]['expectation.1'] + 10\n",
    "        if B.node[target]['performance.1'] < B.adj[perceiver][target]['expectation.1'] :        # if B.node[target]['performance.1'] < B.adj[perceiver][target]['expectation.1']\n",
    "\n",
    "           nextB.adj[perceiver][target]['expectation.1'] = 10\n",
    "           \n",
    "                \n",
    "        else:\n",
    "             nextB.adj[perceiver][target]['expectation.1'] = B.adj[perceiver][target]['expectation.1'] + 40\n",
    "                "
   ]
  },
  {
   "cell_type": "code",
   "execution_count": 49,
   "metadata": {
    "collapsed": true
   },
   "outputs": [],
   "source": [
    "#import pycxsimulator\n",
    "#pycxsimulator.GUI().start(func=[init,draw,step])"
   ]
  },
  {
   "cell_type": "markdown",
   "metadata": {},
   "source": [
    "References\n",
    "\n",
    "Sayama\n",
    "\n",
    "https://networkx.github.io/documentation/stable/reference/algorithms/bipartite.html"
   ]
  },
  {
   "cell_type": "code",
   "execution_count": null,
   "metadata": {
    "collapsed": true
   },
   "outputs": [],
   "source": []
  }
 ],
 "metadata": {
  "kernelspec": {
   "display_name": "Python 2",
   "language": "python",
   "name": "python2"
  },
  "language_info": {
   "codemirror_mode": {
    "name": "ipython",
    "version": 2
   },
   "file_extension": ".py",
   "mimetype": "text/x-python",
   "name": "python",
   "nbconvert_exporter": "python",
   "pygments_lexer": "ipython2",
   "version": "2.7.14"
  }
 },
 "nbformat": 4,
 "nbformat_minor": 2
}
