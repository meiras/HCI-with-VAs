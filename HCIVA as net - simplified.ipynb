{
 "cells": [
  {
   "cell_type": "markdown",
   "metadata": {},
   "source": [
    "## Bipartite model for HCI in VA\n",
    "\n",
    "what's going on:\n",
    "-this is the most simplified version of the model in order to test out why pycx is not running the simulation\n",
    "-one target per perceiver. One expectation and one performance metric, all owned by nodes.\n"
   ]
  },
  {
   "cell_type": "markdown",
   "metadata": {},
   "source": [
    "\n",
    "\n"
   ]
  },
  {
   "cell_type": "code",
   "execution_count": 1,
   "metadata": {
    "collapsed": true
   },
   "outputs": [],
   "source": [
    "## for python, to get pycx\n",
    "#import os\n",
    "#print os.getcwd()\n",
    "#import sys\n",
    "#module_path = os.path.abspath(os.path.join('.'))\n",
    "#if module_path not in sys.path:\n",
    "#    sys.path.append(module_path)\n",
    "\n",
    "#sys.path.append(os.path.join(os.getcwd(), \"pycx-0.32\"))    \n",
    "    \n",
    "#print sys.path"
   ]
  },
  {
   "cell_type": "markdown",
   "metadata": {},
   "source": [
    "## Import libraries "
   ]
  },
  {
   "cell_type": "code",
   "execution_count": 1,
   "metadata": {
    "collapsed": true
   },
   "outputs": [],
   "source": [
    "\n",
    "%matplotlib inline \n",
    "#taken from assignment\n",
    "\n",
    "import networkx as nx\n",
    "import numpy\n",
    "import matplotlib.pyplot as plt\n",
    "\n",
    "from networkx.algorithms import bipartite\n",
    "\n",
    "#import matplotlib\n",
    "#matplotlib.use('TkAgg')\n",
    "\n",
    "import pylab as PL\n",
    "import random as RD\n",
    "\n",
    "\n",
    "\n",
    "RD.seed()\n",
    "\n",
    "PoorVAProb = 0.2 #probability that VA severely underperforms\n",
    "\n",
    "\n",
    "#col = {0:'w', 1:'k'} --  consider a property for perceivers only that illustrates level of expectations met\n"
   ]
  },
  {
   "cell_type": "markdown",
   "metadata": {},
   "source": [
    "## Create graph\n",
    "\n",
    "This part creates the bipartite graph with nodes and edges. Note: the current setup contains 6 nodes of one type and 10 of the other with variablity in connections\n",
    "Note: NetworkX does not have a custom bipartite graph class but the Graph() or DiGraph() classes can be used to represent bipartite graphs. Keep track of which set each node belongs to, and make sure that there is no edge between nodes of the same set (this inhibits me from having personal targets learn from each other; expansion possible with tripartite on conglomerate sharing). The convention used in NetworkX is to use a node attribute named bipartite with values 0 or 1 to identify the sets each node belongs to."
   ]
  },
  {
   "cell_type": "markdown",
   "metadata": {},
   "source": [
    "## Option 1 (using)\n"
   ]
  },
  {
   "cell_type": "code",
   "execution_count": 6,
   "metadata": {
    "collapsed": true
   },
   "outputs": [],
   "source": [
    "B = nx.Graph()  #nx path graph?\n",
    "#B.pos = nx.spring_layout(B)\n",
    "B.add_nodes_from([1,2,3], bipartite=0) #perceivers, top nodes\n",
    "# Add the node attribute \"bipartite\" - Targets = 1\n",
    "B.add_nodes_from(['a','b','c'], bipartite=1)\n",
    "B.add_edges_from([(1,'a'), (2,'b'), (3,'c')])\n",
    "\n"
   ]
  },
  {
   "cell_type": "code",
   "execution_count": 7,
   "metadata": {},
   "outputs": [
    {
     "name": "stdout",
     "output_type": "stream",
     "text": [
      "(6, 3)\n"
     ]
    }
   ],
   "source": [
    "print((B.number_of_nodes(), B.number_of_edges())) \n"
   ]
  },
  {
   "cell_type": "markdown",
   "metadata": {},
   "source": [
    "## Create two sets for \"bipartite\"\n",
    "\n",
    "Did this because False on nx.is.connected(B); better of for titling\n",
    "\n",
    "Reference: https://networkx.github.io/documentation/networkx-1.9/reference/algorithms.bipartite.html?highlight=bipartite"
   ]
  },
  {
   "cell_type": "code",
   "execution_count": 8,
   "metadata": {},
   "outputs": [
    {
     "name": "stdout",
     "output_type": "stream",
     "text": [
      "set([1, 2, 3])\n",
      "set(['a', 'c', 'b'])\n"
     ]
    }
   ],
   "source": [
    "#make them targets and perceivers\n",
    "perceivers = {n for n, d in B.nodes(data=True) if d['bipartite']==0} # perceivers top\n",
    "targets = set(B) - perceivers\n",
    "\n",
    "print perceivers\n",
    "print targets"
   ]
  },
  {
   "cell_type": "code",
   "execution_count": 9,
   "metadata": {},
   "outputs": [
    {
     "data": {
      "image/png": "[encoded data removed]",
      "text/plain": [
       "<matplotlib.figure.Figure at 0x111e79810>"
      ]
     },
     "metadata": {},
     "output_type": "display_data"
    }
   ],
   "source": [
    "#B_layout = nx.spring_layout(B, iterations=1000)\n",
    "#nx.draw_networkx(B, pos=B_layout)\n",
    "#why are there no edges????\n",
    "\n",
    "#c = bipartite.color(B)\n",
    "#print(c)\n",
    "nx.draw_networkx(B)"
   ]
  },
  {
   "cell_type": "markdown",
   "metadata": {},
   "source": [
    "## Add attributes (option 1)\n",
    "all values in setup are arbitrary during program development"
   ]
  },
  {
   "cell_type": "code",
   "execution_count": 10,
   "metadata": {
    "collapsed": true
   },
   "outputs": [],
   "source": [
    "\n",
    "#SET INITIAL WEIGHTS FOR EXPECTATIONS AND PERFORMANCE\n",
    "\n",
    "B.node['a']['VA.type'] = 'personal assistant'\n",
    "B.node['b']['VA.type'] = 'personal assistant'\n",
    "B.node['c']['VA.type'] = 'personal assistant'\n",
    "\n",
    "B.node[1]['expectation.1'] = 1\n",
    "B.node[2]['expectation.1'] = 1 \n",
    "B.node[3]['expectation.1'] = 1\n",
    "\n",
    "\n",
    "B.node['a']['performance.1'] = 0\n",
    "B.node['b']['performance.1'] = 0\n",
    "B.node['c']['performance.1'] = 0\n",
    "\n"
   ]
  },
  {
   "cell_type": "markdown",
   "metadata": {},
   "source": [
    "## visualize graph (not using)\n",
    "not using spring (which documemntation says is default...)\n"
   ]
  },
  {
   "cell_type": "code",
   "execution_count": 11,
   "metadata": {},
   "outputs": [
    {
     "data": {
      "image/png": "[encoded data removed]",
      "text/plain": [
       "<matplotlib.figure.Figure at 0x11c3e1f90>"
      ]
     },
     "metadata": {},
     "output_type": "display_data"
    }
   ],
   "source": [
    "#B_layout = nx.spring_layout(B, iterations=1000)\n",
    "#nx.draw_networkx(B, pos=B_layout)"
   ]
  },
  {
   "cell_type": "markdown",
   "metadata": {},
   "source": [
    "## Test Connections\n",
    "Only run this to test setup"
   ]
  },
  {
   "cell_type": "code",
   "execution_count": 12,
   "metadata": {},
   "outputs": [
    {
     "name": "stdout",
     "output_type": "stream",
     "text": [
      "6\n",
      "3\n",
      "['a', 1, 2, 3, 'c', 'b']\n",
      "[('a', 1), (2, 'b'), (3, 'c')]\n",
      "['a', 'c', 'b']\n",
      "['a']\n",
      "1\n",
      "set([1, 2, 3])\n",
      "True\n",
      "{('a', 1): {}, (3, 'c'): {}, (2, 'b'): {}}\n"
     ]
    }
   ],
   "source": [
    "\n",
    "#Test connections\n",
    "nx.is_connected(B)\n",
    "#bottom_nodes, top_nodes = bipartite.sets(B)\n",
    "\n",
    "\n",
    "\n",
    "print B.number_of_nodes()\n",
    "print B.number_of_edges()\n",
    "print list(B.nodes)\n",
    "print list(B.edges)\n",
    "print list(targets)\n",
    "print list(B.adj[1])\n",
    "print B.degree[1]\n",
    "\n",
    "print perceivers\n",
    "\n",
    "print(bipartite.is_bipartite(B))\n",
    "bipartite.is_bipartite_node_set(B,perceivers)\n",
    "bipartite.is_bipartite_node_set(B,targets)\n",
    "\n",
    "print dict(B.edges)\n",
    "#bipartite code not working https://networkx.github.io/documentation/latest/reference/algorithms/bipartite.html\n",
    "#sets(B[, perceivers])\n",
    "#color(B)\n",
    "#nx.connected_components(B)"
   ]
  },
  {
   "cell_type": "markdown",
   "metadata": {},
   "source": [
    "## set initial expectations and performance values"
   ]
  },
  {
   "cell_type": "code",
   "execution_count": 10,
   "metadata": {
    "collapsed": true
   },
   "outputs": [],
   "source": [
    "def init():\n",
    "    global B, nextB\n",
    "    \n",
    "    time = 0\n",
    "    \n",
    "    B = nx.Graph() \n",
    "    for i in B.nodes():\n",
    "        #set performance randomly to .7 or .3. there is nothing meaningful to this implementation\n",
    "        B.node[i]['performance.1'] = .7 if random() < .5 else .3\n",
    "    \n",
    "    nextB = B.copy()\n",
    "    #FIXME should not need anything else. ?"
   ]
  },
  {
   "cell_type": "markdown",
   "metadata": {},
   "source": [
    "## Draw network. \n",
    "testing of this fxn in spyder has not been successful. below are multiple approaches in hope to find the error"
   ]
  },
  {
   "cell_type": "code",
   "execution_count": 15,
   "metadata": {
    "collapsed": true
   },
   "outputs": [],
   "source": [
    "def draw():\n",
    "    PL.cla()\n",
    "    nx.draw(B, pos, node_color=range(24), node_size=600, cmap=plt.cm.Reds) #, pos = positions, edge_color = [col[network.node[n]['state']] for n in network.nodes()])\n",
    "   # nx.draw(G, pos, node_color=range(24), node_size=800, cmap=plt.cm.Blues)\n",
    "    #https://networkx.github.io/documentation/stable/auto_examples/drawing/plot_node_colormap.html\n",
    " \n",
    "#    nx.draw(g, vmin = 0, vmax = 1,\n",
    "#            node_color = [g.nodes[i]['state'] for i in g.nodes],\n",
    "#            pos = g.pos)\n",
    "    PL.axis('image')\n",
    "    PL.title('t = ' + str(time))"
   ]
  },
  {
   "cell_type": "code",
   "execution_count": null,
   "metadata": {
    "collapsed": true
   },
   "outputs": [],
   "source": [
    "##in SPYDER\n",
    "def draw():\n",
    "    PL.cla()\n",
    "    #nx.draw(B, pos, node_color=range(24), node_size=600, cmap=plt.cm.Reds) #, pos = positions, edge_color = [col[network.node[n]['state']] for n in network.nodes()])\n",
    "\n",
    "   # nx.draw(B) #, pos = positions, edge_color = [col[network.node[n]['state']] for n in network.nodes()])\n",
    "    nx.draw(B, vmin = 0, vmax = 1, \n",
    "            node_color = [B.nodes[i]['expectation'] for i in B.nodes], \n",
    "            cmap=plt.cm.Reds, \n",
    "            pos = g.pos)\n",
    "    PL.axis('image')\n",
    "    PL.title('t = ' + str(time))"
   ]
  },
  {
   "cell_type": "markdown",
   "metadata": {},
   "source": [
    "## The STEP\n",
    "add limits (only loop if values of performance and expectation are 0-1)\n",
    "check code on node and node neighbor. may not need it this way and just 'for i' (since expectation and performance are specific to type of node)"
   ]
  },
  {
   "cell_type": "code",
   "execution_count": 16,
   "metadata": {
    "collapsed": true
   },
   "outputs": [],
   "source": [
    "def step():\n",
    "    global time, B, nextB\n",
    "\n",
    "    time += 1\n",
    "\n",
    " #this code assumes constant performance and also assumes constant interaction\n",
    "\n",
    "    for i in B.nodes(): \n",
    "        for j in B.neighbors(i):\n",
    "            if (B.node[i]['performance.1'] >= 0) and (B.node[i]['performance.1'] =< 1)\n",
    "            #if the target's performance is what perceiver expected, keep expectation what it was\n",
    "                if B.node[i]['performance.1'] == B.node[j]['expectation.1'] :\n",
    "                    nextB.node[j]['expectation.1'] = B.node[j]['expectation.1'] # nextB.node[i]['state'] = 100 #FIXME placeholder value\n",
    "                if ((B.node[i]['performance.1'])-(B.node[j]['expectation.1'])) > 0 : #if the difference is that performance is greater, keep expectation to simplify\n",
    "                    nextB.node[j]['expectation.1'] = B.node[i]['performance.1']\n",
    "                if ((B.node[i]['performance.1'])-(B.node[j]['expectation.1'])) < 0 : #if the difference is that expecttion is greater, bring expectation down\n",
    "                    nextB.node[j]['expectation.1'] = B.node[i]['performance.1']+.2 #take the expectation down by bringing it closer to performance --arbitrary method\n",
    "            #if RD.random() < PoorVAProb:\n",
    "              #  nextB.node[i]['expectation.1'] = .5 #reset some \n",
    "                       # break\n",
    "            else: # adaptive link cutting behavior\n",
    "                nextB.node[i]['performance.1'] = 0\n",
    "                \n",
    "    del B\n",
    "    B = nextB.copy()"
   ]
  },
  {
   "cell_type": "markdown",
   "metadata": {},
   "source": [
    "## Step as line code (outside of fxn) - DONT USE THIS"
   ]
  },
  {
   "cell_type": "code",
   "execution_count": null,
   "metadata": {
    "collapsed": true
   },
   "outputs": [],
   "source": [
    "for i in B.nodes(): #for i in perceiver():\n",
    "        if B.node[i]['performance.1'] == B.adj[i][j]['expectation.1'] :\n",
    "           # nextB.node[i]['state'] = 100 #FIXME placeholder value\n",
    "            nextB.adj[perceiver][target]['expectation.1'] = 50\n",
    "            for j in B.adj(i):\n",
    "                if B.adj[j]['expectation.1'] < 60 : #if it's generally high\n",
    "                    if RD.random() < PoorVAProb:\n",
    "                   # if RD.random() < infectionProb:\n",
    "                        nextB.node[i]['expectation.1'] = 5\n",
    "                        break\n",
    "                    else: # adaptive link cutting behavior\n",
    "                        nextB.node[i]['expectation.1'] = B.node[i]['expectation.1'] + 10\n",
    "        if B.node[target]['performance.1'] < B.adj[perceiver][target]['expectation.1'] :        # if B.node[target]['performance.1'] < B.adj[perceiver][target]['expectation.1']\n",
    "\n",
    "           nextB.adj[perceiver][target]['expectation.1'] = 10\n",
    "           \n",
    "                \n",
    "        else:\n",
    "             nextB.adj[perceiver][target]['expectation.1'] = B.adj[perceiver][target]['expectation.1'] + 40\n",
    "                "
   ]
  },
  {
   "cell_type": "code",
   "execution_count": 49,
   "metadata": {
    "collapsed": true
   },
   "outputs": [],
   "source": [
    "import pycxsimulator\n",
    "pycxsimulator.GUI().start(func=[init,draw,step])"
   ]
  },
  {
   "cell_type": "markdown",
   "metadata": {},
   "source": [
    "References\n",
    "\n",
    "Sayama\n",
    "\n",
    "https://networkx.github.io/documentation/stable/reference/algorithms/bipartite.html"
   ]
  },
  {
   "cell_type": "code",
   "execution_count": null,
   "metadata": {
    "collapsed": true
   },
   "outputs": [],
   "source": []
  }
 ],
 "metadata": {
  "kernelspec": {
   "display_name": "Python 2",
   "language": "python",
   "name": "python2"
  },
  "language_info": {
   "codemirror_mode": {
    "name": "ipython",
    "version": 2
   },
   "file_extension": ".py",
   "mimetype": "text/x-python",
   "name": "python",
   "nbconvert_exporter": "python",
   "pygments_lexer": "ipython2",
   "version": "2.7.14"
  }
 },
 "nbformat": 4,
 "nbformat_minor": 2
}
